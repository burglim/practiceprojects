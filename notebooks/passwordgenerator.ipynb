{
 "cells": [
  {
   "cell_type": "raw",
   "metadata": {},
   "source": [
    "# import string library function \n",
    "import string \n",
    "  \n",
    "# Storing the value in variable result \n",
    "result = string.ascii_letters \n",
    "  \n",
    "# Printing the value \n",
    "print(result) "
   ]
  },
  {
   "cell_type": "code",
   "execution_count": 105,
   "metadata": {},
   "outputs": [],
   "source": [
    "import random\n",
    "from random import randint\n",
    "import string"
   ]
  },
  {
   "cell_type": "code",
   "execution_count": 106,
   "metadata": {},
   "outputs": [],
   "source": [
    "def generate():\n",
    "    key = randint(1,2)\n",
    "\n",
    "    if key == 1:\n",
    "        item = string.ascii_letters\n",
    "        return(random.choice(item))\n",
    "\n",
    "    else:\n",
    "        numlist = [1,2,3,4,5,6,7,8,9]\n",
    "        return(random.choice(numlist))"
   ]
  },
  {
   "cell_type": "code",
   "execution_count": null,
   "metadata": {},
   "outputs": [],
   "source": [
    "def newpassword():\n",
    "    length = input('Enter character length: ')\n",
    "    length = int(length)\n",
    "    #print(length)\n",
    "    \n",
    "    output = ''\n",
    "\n",
    "    for x in range(length):\n",
    "        output += str(generate())\n",
    "    return output\n",
    "\n",
    "print(newpassword())"
   ]
  },
  {
   "cell_type": "code",
   "execution_count": null,
   "metadata": {},
   "outputs": [],
   "source": []
  }
 ],
 "metadata": {
  "kernelspec": {
   "display_name": "Python 3",
   "language": "python",
   "name": "python3"
  },
  "language_info": {
   "codemirror_mode": {
    "name": "ipython",
    "version": 3
   },
   "file_extension": ".py",
   "mimetype": "text/x-python",
   "name": "python",
   "nbconvert_exporter": "python",
   "pygments_lexer": "ipython3",
   "version": "3.7.3"
  }
 },
 "nbformat": 4,
 "nbformat_minor": 2
}
