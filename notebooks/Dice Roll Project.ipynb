{
 "cells": [
  {
   "cell_type": "code",
   "execution_count": 6,
   "metadata": {},
   "outputs": [],
   "source": [
    "#importing just random would give floats, randint is for integers of course!\n",
    "from random import randint"
   ]
  },
  {
   "cell_type": "code",
   "execution_count": 7,
   "metadata": {},
   "outputs": [],
   "source": [
    "############## Dice roll game #############\n",
    "def rollfunc():\n",
    "    roll = randint(1,6)\n",
    "#     print(roll) # is unneccesary as the while loop is already printing this result\n",
    "    return roll\n",
    "#return doesn't need any brackets for the variable!\n"
   ]
  },
  {
   "cell_type": "code",
   "execution_count": 11,
   "metadata": {},
   "outputs": [
    {
     "name": "stdout",
     "output_type": "stream",
     "text": [
      "Would you like to roll the dice? Yes\n",
      "Your number is:  3 \n",
      "\n",
      "Would you like to roll the dice? Ys\n",
      "Would you like to roll the dice? Yes\n",
      "Your number is:  3 \n",
      "\n",
      "Would you like to roll the dice? No\n",
      "I'm sorry to hear that\n",
      "\n"
     ]
    }
   ],
   "source": [
    "rollcount = 1\n",
    "\n",
    "while rollcount<4:\n",
    "    command = input('Would you like to roll the dice? ')\n",
    "    if command.lower()[0:3] == 'yes':\n",
    "        #the .lower() allows for any input of caps, while indexing allows for spaces/other things after the word\n",
    "        print('Your number is: ',rollfunc(),'\\n')\n",
    "        rollcount += 1 #note the fancy shorthand\n",
    "    elif command.lower()[0:2] == 'no':\n",
    "        print(\"I'm sorry to hear that\\n\")\n",
    "        rollcount=4\n",
    "    else:\n",
    "        pass\n",
    "    "
   ]
  },
  {
   "cell_type": "code",
   "execution_count": null,
   "metadata": {},
   "outputs": [],
   "source": []
  }
 ],
 "metadata": {
  "kernelspec": {
   "display_name": "Python 3",
   "language": "python",
   "name": "python3"
  }
 },
 "nbformat": 4,
 "nbformat_minor": 2
}
