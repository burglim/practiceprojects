{
 "cells": [
  {
   "cell_type": "code",
   "execution_count": 1,
   "metadata": {},
   "outputs": [],
   "source": [
    "import numpy as np\n",
    "import random"
   ]
  },
  {
   "cell_type": "markdown",
   "metadata": {},
   "source": [
    "# Building a board"
   ]
  },
  {
   "cell_type": "markdown",
   "metadata": {},
   "source": [
    "Creating the game board with np.array vs using lists:\n",
    "* NB I don't know anything about arrays yet, so just testing this out, and will learn what to do with them later :)"
   ]
  },
  {
   "cell_type": "code",
   "execution_count": 2,
   "metadata": {
    "scrolled": true
   },
   "outputs": [
    {
     "name": "stdout",
     "output_type": "stream",
     "text": [
      "[['a1' 'a2' 'a3' 'a4' 'a5']\n",
      " ['b1' 'b2' 'b3' 'b4' 'b5']\n",
      " ['c1' 'c2' 'c3' 'c4' 'c5']\n",
      " ['d1' 'd2' 'd3' 'd4' 'd5']\n",
      " ['e1' 'e2' 'e3' 'e4' 'e5']]\n"
     ]
    }
   ],
   "source": [
    "#array\n",
    "grid1 = np.array([[\"a1\", \"a2\", \"a3\", \"a4\", \"a5\"], \n",
    "                 [\"b1\", \"b2\", \"b3\", \"b4\", \"b5\"], \n",
    "                 [\"c1\", \"c2\", \"c3\", \"c4\", \"c5\"],\n",
    "                 [\"d1\", \"d2\", \"d3\", \"d4\", \"d5\"],\n",
    "                 [\"e1\", \"e2\", \"e3\", \"e4\", \"e5\"]])\n",
    "print(grid1)"
   ]
  },
  {
   "cell_type": "code",
   "execution_count": 63,
   "metadata": {},
   "outputs": [
    {
     "name": "stdout",
     "output_type": "stream",
     "text": [
      "['a1', 'a2', 'a3', 'a4', 'a5']\n",
      "['b1', 'b2', 'b3', 'b4', 'b5']\n",
      "['c1', 'c2', 'c3', 'c4', 'c5']\n",
      "['d1', 'd2', 'd3', 'd4', 'd5']\n",
      "['e1', 'e2', 'e3', 'e4', 'e5']\n"
     ]
    }
   ],
   "source": [
    "#using lists to make a grid, a bit manual I know. \n",
    "#But at least I can currently work with indexing a list within a list to locate a particular point!\n",
    "row1 = [\"a1\", \"a2\", \"a3\", \"a4\", \"a5\"]\n",
    "row2 = [\"b1\", \"b2\", \"b3\", \"b4\", \"b5\"]\n",
    "row3 = [\"c1\", \"c2\", \"c3\", \"c4\", \"c5\"]\n",
    "row4 = [\"d1\", \"d2\", \"d3\", \"d4\", \"d5\"]\n",
    "row5 = [\"e1\", \"e2\", \"e3\", \"e4\", \"e5\"]\n",
    "\n",
    "grid = [row1, row2, row3, row4, row5]\n",
    "for i in grid:\n",
    "    print(i)"
   ]
  },
  {
   "cell_type": "markdown",
   "metadata": {},
   "source": [
    "Function to print blank board, with ability to specify which point is hit. This will be useful later to modify so that another function tells the board which point to hit"
   ]
  },
  {
   "cell_type": "code",
   "execution_count": 65,
   "metadata": {},
   "outputs": [
    {
     "name": "stdout",
     "output_type": "stream",
     "text": [
      ". . X . . \n",
      ". . . . . \n",
      ". . . . . \n",
      ". . . . . \n",
      ". . . . . \n"
     ]
    }
   ],
   "source": [
    "def board(row):\n",
    "    blank = ''\n",
    "    for i in row:\n",
    "        if i == \"a3\":\n",
    "            blank += 'X '\n",
    "        else: \n",
    "            blank += '. '\n",
    "    return blank\n",
    "\n",
    "for item in grid:\n",
    "    print(board(item))"
   ]
  },
  {
   "cell_type": "markdown",
   "metadata": {},
   "source": [
    "# Point generation - failed attempt"
   ]
  },
  {
   "cell_type": "markdown",
   "metadata": {},
   "source": [
    "See below two evening's worth of a failed attempt to build various interlocking functions to randomly select an item from the board (grid). Thankfully, the penny dropped and I realised I can actually do this in one very short function (see below)\n",
    "\n",
    "This function takes the rowchoice (generated later), randomly selects a column index, and returns that str"
   ]
  },
  {
   "cell_type": "code",
   "execution_count": null,
   "metadata": {},
   "outputs": [],
   "source": [
    "def colchoice(rowchoice):\n",
    "    \n",
    "    if rowchoice == 1:\n",
    "        rowselect = row1\n",
    "        colselect = random.randint(0,4)\n",
    "        return colselect\n",
    "\n",
    "    elif rowchoice == 2:\n",
    "        rowselect = row2\n",
    "        colselect = random.randint(0,4)\n",
    "        return colselect\n",
    "\n",
    "    elif rowchoice == 3:\n",
    "        rowselect = row3\n",
    "        colselect = random.randint(0,4)\n",
    "        return colselect\n",
    "\n",
    "    elif rowchoice == 4:\n",
    "        rowselect = row4\n",
    "        colselect = random.randint(0,4)\n",
    "        return colselect\n",
    "\n",
    "    else:\n",
    "        rowselect = row5\n",
    "        colselect = random.randint(0,4)\n",
    "        return colselect"
   ]
  },
  {
   "cell_type": "markdown",
   "metadata": {},
   "source": [
    "Pointer is designed to then take the row and column locations and return, using the index, the str value from that place on the board:"
   ]
  },
  {
   "cell_type": "code",
   "execution_count": null,
   "metadata": {},
   "outputs": [],
   "source": [
    "def pointer(row,col):\n",
    "    if col == 1:\n",
    "        point = row[0]\n",
    "        return point\n",
    "    elif col == 2:\n",
    "        point = row[1]\n",
    "        return point\n",
    "    elif col == 3:\n",
    "        point = row[2]\n",
    "        return point\n",
    "    elif col == 4:\n",
    "        point = row[3]\n",
    "        return point\n",
    "    else:\n",
    "        point = row[4]\n",
    "        return point"
   ]
  },
  {
   "cell_type": "markdown",
   "metadata": {},
   "source": [
    "'picker()' tells the 'pointer()' function what the randomly generated row is"
   ]
  },
  {
   "cell_type": "code",
   "execution_count": 18,
   "metadata": {},
   "outputs": [],
   "source": [
    "def picker(rowchoice, col):\n",
    "    if rowchoice == 1:\n",
    "        return pointer(row1, col)\n",
    "    elif rowchoice == 2:\n",
    "        return pointer(row2, col)\n",
    "    elif rowchoice == 2:\n",
    "        return pointer(row3, col)\n",
    "    elif rowchoice == 2:\n",
    "        return pointer(row4,col)\n",
    "    else:\n",
    "        return pointer(row5, col)"
   ]
  },
  {
   "cell_type": "code",
   "execution_count": 19,
   "metadata": {},
   "outputs": [
    {
     "name": "stdout",
     "output_type": "stream",
     "text": [
      "4\n"
     ]
    }
   ],
   "source": [
    "rowchoice1 = random.randint(1,5)\n",
    "print(rowchoice1)\n",
    "\n",
    "def gensqu(): \n",
    "    column = colchoice(rowchoice1)\n",
    "    index = pointer(rowchoice1, column)\n",
    "    print(picker(rowchoice1, column))"
   ]
  },
  {
   "cell_type": "markdown",
   "metadata": {},
   "source": [
    "As you can see,  my indexing attempts and feeding in various objects to the interlocking functions rather confused things..."
   ]
  },
  {
   "cell_type": "code",
   "execution_count": 21,
   "metadata": {},
   "outputs": [
    {
     "ename": "TypeError",
     "evalue": "'int' object is not subscriptable",
     "output_type": "error",
     "traceback": [
      "\u001b[1;31m---------------------------------------------------------------------------\u001b[0m",
      "\u001b[1;31mTypeError\u001b[0m                                 Traceback (most recent call last)",
      "\u001b[1;32m<ipython-input-21-0664a8914607>\u001b[0m in \u001b[0;36m<module>\u001b[1;34m\u001b[0m\n\u001b[1;32m----> 1\u001b[1;33m \u001b[0mgensqu\u001b[0m\u001b[1;33m(\u001b[0m\u001b[1;33m)\u001b[0m\u001b[1;33m\u001b[0m\u001b[1;33m\u001b[0m\u001b[0m\n\u001b[0m",
      "\u001b[1;32m<ipython-input-19-35e108ddb1fe>\u001b[0m in \u001b[0;36mgensqu\u001b[1;34m()\u001b[0m\n\u001b[0;32m      4\u001b[0m \u001b[1;32mdef\u001b[0m \u001b[0mgensqu\u001b[0m\u001b[1;33m(\u001b[0m\u001b[1;33m)\u001b[0m\u001b[1;33m:\u001b[0m\u001b[1;33m\u001b[0m\u001b[1;33m\u001b[0m\u001b[0m\n\u001b[0;32m      5\u001b[0m     \u001b[0mcolumn\u001b[0m \u001b[1;33m=\u001b[0m \u001b[0mcolchoice\u001b[0m\u001b[1;33m(\u001b[0m\u001b[0mrowchoice1\u001b[0m\u001b[1;33m)\u001b[0m\u001b[1;33m\u001b[0m\u001b[1;33m\u001b[0m\u001b[0m\n\u001b[1;32m----> 6\u001b[1;33m     \u001b[0mindex\u001b[0m \u001b[1;33m=\u001b[0m \u001b[0mpointer\u001b[0m\u001b[1;33m(\u001b[0m\u001b[0mrowchoice1\u001b[0m\u001b[1;33m,\u001b[0m \u001b[0mcolumn\u001b[0m\u001b[1;33m)\u001b[0m\u001b[1;33m\u001b[0m\u001b[1;33m\u001b[0m\u001b[0m\n\u001b[0m\u001b[0;32m      7\u001b[0m     \u001b[0mprint\u001b[0m\u001b[1;33m(\u001b[0m\u001b[0mpicker\u001b[0m\u001b[1;33m(\u001b[0m\u001b[0mrowchoice1\u001b[0m\u001b[1;33m,\u001b[0m \u001b[0mcolumn\u001b[0m\u001b[1;33m)\u001b[0m\u001b[1;33m)\u001b[0m\u001b[1;33m\u001b[0m\u001b[1;33m\u001b[0m\u001b[0m\n",
      "\u001b[1;32m<ipython-input-17-fa7bd381f7ea>\u001b[0m in \u001b[0;36mpointer\u001b[1;34m(row, col)\u001b[0m\n\u001b[0;32m      4\u001b[0m         \u001b[1;32mreturn\u001b[0m \u001b[0mpoint\u001b[0m\u001b[1;33m\u001b[0m\u001b[1;33m\u001b[0m\u001b[0m\n\u001b[0;32m      5\u001b[0m     \u001b[1;32melif\u001b[0m \u001b[0mcol\u001b[0m \u001b[1;33m==\u001b[0m \u001b[1;36m2\u001b[0m\u001b[1;33m:\u001b[0m\u001b[1;33m\u001b[0m\u001b[1;33m\u001b[0m\u001b[0m\n\u001b[1;32m----> 6\u001b[1;33m         \u001b[0mpoint\u001b[0m \u001b[1;33m=\u001b[0m \u001b[0mrow\u001b[0m\u001b[1;33m[\u001b[0m\u001b[1;36m1\u001b[0m\u001b[1;33m]\u001b[0m\u001b[1;33m\u001b[0m\u001b[1;33m\u001b[0m\u001b[0m\n\u001b[0m\u001b[0;32m      7\u001b[0m         \u001b[1;32mreturn\u001b[0m \u001b[0mpoint\u001b[0m\u001b[1;33m\u001b[0m\u001b[1;33m\u001b[0m\u001b[0m\n\u001b[0;32m      8\u001b[0m     \u001b[1;32melif\u001b[0m \u001b[0mcol\u001b[0m \u001b[1;33m==\u001b[0m \u001b[1;36m3\u001b[0m\u001b[1;33m:\u001b[0m\u001b[1;33m\u001b[0m\u001b[1;33m\u001b[0m\u001b[0m\n",
      "\u001b[1;31mTypeError\u001b[0m: 'int' object is not subscriptable"
     ]
    }
   ],
   "source": [
    "gensqu()"
   ]
  },
  {
   "cell_type": "markdown",
   "metadata": {},
   "source": [
    "# Success!"
   ]
  },
  {
   "cell_type": "code",
   "execution_count": 70,
   "metadata": {},
   "outputs": [],
   "source": [
    "def pointgen():\n",
    "    randrow = random.randint(0,4)\n",
    "    rowselect = grid[(randrow)]\n",
    "    colselect = random.randint(0,4)\n",
    "    point = rowselect[colselect]\n",
    "    return point"
   ]
  },
  {
   "cell_type": "code",
   "execution_count": 71,
   "metadata": {},
   "outputs": [
    {
     "data": {
      "text/plain": [
       "'e3'"
      ]
     },
     "execution_count": 71,
     "metadata": {},
     "output_type": "execute_result"
    }
   ],
   "source": [
    "pointgen()"
   ]
  },
  {
   "cell_type": "code",
   "execution_count": 130,
   "metadata": {
    "scrolled": true
   },
   "outputs": [
    {
     "name": "stdout",
     "output_type": "stream",
     "text": [
      ". . . . . \n",
      ". . . . . \n",
      ". . . . . \n",
      ". . . X . \n",
      ". . . . . \n"
     ]
    }
   ],
   "source": [
    "def compmove(board, generate):\n",
    "    blank = ''\n",
    "    for i in board:\n",
    "        if i == generate:\n",
    "            blank += 'X '\n",
    "        else: \n",
    "            blank += '. '\n",
    "    return blank\n",
    "\n",
    "generate = pointgen()\n",
    "for item in grid:\n",
    "    print(compmove(item, generate))"
   ]
  },
  {
   "cell_type": "markdown",
   "metadata": {},
   "source": []
  }
 ],
 "metadata": {
  "kernelspec": {
   "display_name": "Python 3",
   "language": "python",
   "name": "python3"
  },
  "language_info": {
   "codemirror_mode": {
    "name": "ipython",
    "version": 3
   },
   "file_extension": ".py",
   "mimetype": "text/x-python",
   "name": "python",
   "nbconvert_exporter": "python",
   "pygments_lexer": "ipython3",
   "version": "3.7.3"
  }
 },
 "nbformat": 4,
 "nbformat_minor": 2
}
