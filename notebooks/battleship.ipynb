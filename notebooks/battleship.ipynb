{
 "cells": [
  {
   "cell_type": "code",
   "execution_count": 6,
   "metadata": {},
   "outputs": [],
   "source": [
    "import numpy as np\n",
    "import random"
   ]
  },
  {
   "cell_type": "markdown",
   "metadata": {},
   "source": [
    "# Building a board"
   ]
  },
  {
   "cell_type": "markdown",
   "metadata": {},
   "source": [
    "Creating the game board with np.array vs using lists:\n",
    "* NB I don't know anything about arrays yet, so just testing this out, and will learn what to do with them later :)"
   ]
  },
  {
   "cell_type": "code",
   "execution_count": 74,
   "metadata": {
    "scrolled": true
   },
   "outputs": [
    {
     "name": "stdout",
     "output_type": "stream",
     "text": [
      "[['a1' 'a2' 'a3' 'a4' 'a5']\n",
      " ['b1' 'b2' 'b3' 'b4' 'b5']\n",
      " ['c1' 'c2' 'c3' 'c4' 'c5']\n",
      " ['d1' 'd2' 'd3' 'd4' 'd5']\n",
      " ['e1' 'e2' 'e3' 'e4' 'e5']]\n"
     ]
    },
    {
     "data": {
      "text/plain": [
       "numpy.ndarray"
      ]
     },
     "execution_count": 74,
     "metadata": {},
     "output_type": "execute_result"
    }
   ],
   "source": [
    "#array alternative\n",
    "grid1 = np.array([[\"a1\", \"a2\", \"a3\", \"a4\", \"a5\"], \n",
    "                 [\"b1\", \"b2\", \"b3\", \"b4\", \"b5\"], \n",
    "                 [\"c1\", \"c2\", \"c3\", \"c4\", \"c5\"],\n",
    "                 [\"d1\", \"d2\", \"d3\", \"d4\", \"d5\"],\n",
    "                 [\"e1\", \"e2\", \"e3\", \"e4\", \"e5\"]])\n",
    "print(grid1)\n",
    "type(grid1)"
   ]
  },
  {
   "cell_type": "code",
   "execution_count": 1,
   "metadata": {},
   "outputs": [
    {
     "name": "stdout",
     "output_type": "stream",
     "text": [
      "['a1', 'a2', 'a3', 'a4', 'a5']\n",
      "['b1', 'b2', 'b3', 'b4', 'b5']\n",
      "['c1', 'c2', 'c3', 'c4', 'c5']\n",
      "['d1', 'd2', 'd3', 'd4', 'd5']\n",
      "['e1', 'e2', 'e3', 'e4', 'e5']\n"
     ]
    }
   ],
   "source": [
    "#using lists to make a grid, a bit manual I know. \n",
    "#But at least I can currently work with indexing a list within a list to locate a particular point!\n",
    "row1 = [\"a1\", \"a2\", \"a3\", \"a4\", \"a5\"]\n",
    "row2 = [\"b1\", \"b2\", \"b3\", \"b4\", \"b5\"]\n",
    "row3 = [\"c1\", \"c2\", \"c3\", \"c4\", \"c5\"]\n",
    "row4 = [\"d1\", \"d2\", \"d3\", \"d4\", \"d5\"]\n",
    "row5 = [\"e1\", \"e2\", \"e3\", \"e4\", \"e5\"]\n",
    "\n",
    "grid = [row1, row2, row3, row4, row5]\n",
    "for i in grid:\n",
    "    print(i)"
   ]
  },
  {
   "cell_type": "markdown",
   "metadata": {},
   "source": [
    "Function to print blank board, with ability to specify which point is hit. This will be useful later to modify so that another function tells the board which point to hit"
   ]
  },
  {
   "cell_type": "code",
   "execution_count": 2,
   "metadata": {
    "scrolled": true
   },
   "outputs": [
    {
     "name": "stdout",
     "output_type": "stream",
     "text": [
      ". . X . . \n",
      ". . . . . \n",
      ". . . . . \n",
      ". . . . . \n",
      ". . . . . \n"
     ]
    }
   ],
   "source": [
    "def board(row):\n",
    "    blank = ''\n",
    "    for i in row:\n",
    "        if i == \"a3\":\n",
    "            blank += 'X '\n",
    "        else: \n",
    "            blank += '. '\n",
    "    return blank\n",
    "\n",
    "for item in grid:\n",
    "    print(board(item))"
   ]
  },
  {
   "cell_type": "markdown",
   "metadata": {},
   "source": [
    "Single point generator: useful to feed into other functions!"
   ]
  },
  {
   "cell_type": "code",
   "execution_count": 7,
   "metadata": {},
   "outputs": [],
   "source": [
    "def pointgen():\n",
    "    randrow = random.randint(0,4)\n",
    "    rowselect = grid[randrow]\n",
    "    colselect = random.randint(0,4)\n",
    "    point = rowselect[colselect]\n",
    "    return point"
   ]
  },
  {
   "cell_type": "code",
   "execution_count": 8,
   "metadata": {},
   "outputs": [
    {
     "data": {
      "text/plain": [
       "'d1'"
      ]
     },
     "execution_count": 8,
     "metadata": {},
     "output_type": "execute_result"
    }
   ],
   "source": [
    "pointgen()"
   ]
  },
  {
   "cell_type": "code",
   "execution_count": 9,
   "metadata": {},
   "outputs": [],
   "source": [
    "def multipointgen(n):\n",
    "    stop = 0\n",
    "    values = []\n",
    "    while stop < n:\n",
    "        point = pointgen()\n",
    "        if point in values:\n",
    "            pass\n",
    "        else:\n",
    "            values.append(point)\n",
    "            stop += 1\n",
    "    return values"
   ]
  },
  {
   "cell_type": "code",
   "execution_count": 10,
   "metadata": {},
   "outputs": [
    {
     "data": {
      "text/plain": [
       "['b4', 'd1', 'd5']"
      ]
     },
     "execution_count": 10,
     "metadata": {},
     "output_type": "execute_result"
    }
   ],
   "source": [
    "multipointgen(3)"
   ]
  },
  {
   "cell_type": "markdown",
   "metadata": {},
   "source": [
    "And now a much faster way, using a set to make sure the values are unique!"
   ]
  },
  {
   "cell_type": "code",
   "execution_count": 11,
   "metadata": {},
   "outputs": [],
   "source": [
    "def multipointgen2(n):\n",
    "    values = set()\n",
    "    while len(values) < n:\n",
    "        values = values.union([pointgen()])\n",
    "    return list(values)"
   ]
  },
  {
   "cell_type": "code",
   "execution_count": 12,
   "metadata": {
    "scrolled": true
   },
   "outputs": [],
   "source": [
    "multi = multipointgen2(3)"
   ]
  },
  {
   "cell_type": "markdown",
   "metadata": {},
   "source": [
    "# Computer's move"
   ]
  },
  {
   "cell_type": "markdown",
   "metadata": {},
   "source": [
    "Modified board printing function (as in section above), now feeding in the randomly generated/player specified point on the board! This can be used for both comp move and player move.\n",
    "\n",
    "* NB There are two commands to iterate through the object across both functions. This is to iterate through 1. items in grid (row1, row2 etc, in the printboard() function) and then for the items within the rows themselves within compmove()."
   ]
  },
  {
   "cell_type": "code",
   "execution_count": 79,
   "metadata": {
    "scrolled": true
   },
   "outputs": [],
   "source": [
    "def turn(board, point):\n",
    "    blank = ''\n",
    "    for i in board:\n",
    "        if i == point:\n",
    "            blank += 'X '\n",
    "        else: \n",
    "            blank += '. '\n",
    "    return blank"
   ]
  },
  {
   "cell_type": "code",
   "execution_count": 80,
   "metadata": {},
   "outputs": [],
   "source": [
    "def printcomp():\n",
    "    generate = pointgen()\n",
    "    for item in grid:\n",
    "        print(turn(item, generate))"
   ]
  },
  {
   "cell_type": "code",
   "execution_count": 85,
   "metadata": {},
   "outputs": [
    {
     "name": "stdout",
     "output_type": "stream",
     "text": [
      ". . . . . \n",
      ". . . . . \n",
      ". . . . . \n",
      ". . . . . \n",
      ". X . . . \n"
     ]
    }
   ],
   "source": [
    "printcomp()"
   ]
  },
  {
   "cell_type": "markdown",
   "metadata": {},
   "source": [
    "# Start of game - computer generates three ships"
   ]
  },
  {
   "cell_type": "code",
   "execution_count": 11,
   "metadata": {},
   "outputs": [],
   "source": [
    "def startturn(board, point1, point2, point3):\n",
    "    blank = ''\n",
    "    for i in board:\n",
    "        if i == point1:\n",
    "            blank += 'X '\n",
    "        elif i == point2:\n",
    "            blank += 'X ' \n",
    "        elif i == point3:\n",
    "            blank += 'X '\n",
    "        else: \n",
    "            blank += '. '\n",
    "    return blank"
   ]
  },
  {
   "cell_type": "markdown",
   "metadata": {},
   "source": [
    "Need to find a way to ensure all three points generated are unique"
   ]
  },
  {
   "cell_type": "code",
   "execution_count": 12,
   "metadata": {},
   "outputs": [],
   "source": [
    "generate1 = pointgen()\n",
    "generate2 = pointgen()\n",
    "generate3 = pointgen()\n",
    "    \n",
    "def printcompturn(x,y,z):\n",
    "    for item in grid:\n",
    "        print(startturn(item,x,y,z))"
   ]
  },
  {
   "cell_type": "code",
   "execution_count": 10,
   "metadata": {
    "scrolled": false
   },
   "outputs": [
    {
     "ename": "NameError",
     "evalue": "name 'startturn' is not defined",
     "output_type": "error",
     "traceback": [
      "\u001b[1;31m---------------------------------------------------------------------------\u001b[0m",
      "\u001b[1;31mNameError\u001b[0m                                 Traceback (most recent call last)",
      "\u001b[1;32m<ipython-input-10-0ecfda9af2be>\u001b[0m in \u001b[0;36m<module>\u001b[1;34m\u001b[0m\n\u001b[1;32m----> 1\u001b[1;33m \u001b[0mprintcompturn\u001b[0m\u001b[1;33m(\u001b[0m\u001b[0mmulti\u001b[0m\u001b[1;33m)\u001b[0m\u001b[1;33m\u001b[0m\u001b[1;33m\u001b[0m\u001b[0m\n\u001b[0m",
      "\u001b[1;32m<ipython-input-9-24bb3b9743e9>\u001b[0m in \u001b[0;36mprintcompturn\u001b[1;34m(x)\u001b[0m\n\u001b[0;32m      1\u001b[0m \u001b[1;32mdef\u001b[0m \u001b[0mprintcompturn\u001b[0m\u001b[1;33m(\u001b[0m\u001b[0mx\u001b[0m\u001b[1;33m)\u001b[0m\u001b[1;33m:\u001b[0m\u001b[1;33m\u001b[0m\u001b[1;33m\u001b[0m\u001b[0m\n\u001b[0;32m      2\u001b[0m     \u001b[1;32mfor\u001b[0m \u001b[0mitem\u001b[0m \u001b[1;32min\u001b[0m \u001b[0mgrid\u001b[0m\u001b[1;33m:\u001b[0m\u001b[1;33m\u001b[0m\u001b[1;33m\u001b[0m\u001b[0m\n\u001b[1;32m----> 3\u001b[1;33m         \u001b[0mprint\u001b[0m\u001b[1;33m(\u001b[0m\u001b[0mstartturn\u001b[0m\u001b[1;33m(\u001b[0m\u001b[0mitem\u001b[0m\u001b[1;33m,\u001b[0m\u001b[0mx\u001b[0m\u001b[1;33m)\u001b[0m\u001b[1;33m)\u001b[0m\u001b[1;33m\u001b[0m\u001b[1;33m\u001b[0m\u001b[0m\n\u001b[0m",
      "\u001b[1;31mNameError\u001b[0m: name 'startturn' is not defined"
     ]
    }
   ],
   "source": [
    "printcompturn(multi)"
   ]
  },
  {
   "cell_type": "markdown",
   "metadata": {},
   "source": [
    "# Player's move"
   ]
  },
  {
   "cell_type": "markdown",
   "metadata": {},
   "source": [
    "Need to find a quick/simple way to check if player input != any items in grid. Ideally would want this function to return an error message rather than simply print the blank grid."
   ]
  },
  {
   "cell_type": "code",
   "execution_count": 89,
   "metadata": {},
   "outputs": [],
   "source": [
    "def printplayer():\n",
    "    player_input = input('Please pick a square: ')\n",
    "    player_input = player_input.lower()\n",
    "    for item in grid:\n",
    "        print(turn(item, player_input))"
   ]
  },
  {
   "cell_type": "code",
   "execution_count": 90,
   "metadata": {},
   "outputs": [
    {
     "name": "stdout",
     "output_type": "stream",
     "text": [
      "Please pick a square: b3\n",
      ". . . . . \n",
      ". . X . . \n",
      ". . . . . \n",
      ". . . . . \n",
      ". . . . . \n"
     ]
    }
   ],
   "source": [
    "printplayer()"
   ]
  },
  {
   "cell_type": "markdown",
   "metadata": {},
   "source": [
    "# Start of game - player places three ships"
   ]
  },
  {
   "cell_type": "markdown",
   "metadata": {},
   "source": [
    "Again, I need to include some conditions here to make sure the player enters 3 unique values"
   ]
  },
  {
   "cell_type": "code",
   "execution_count": 133,
   "metadata": {},
   "outputs": [],
   "source": [
    "def printplayerturn():\n",
    "    player_input1 = input('Please pick a square: ')\n",
    "    player_input1 = player_input1.lower()\n",
    "    print()\n",
    "    player_input2 = input('Please pick a second square: ')\n",
    "    player_input2 = player_input2.lower()\n",
    "    print()\n",
    "    player_input3 = input('Please pick a third square: ')\n",
    "    player_input3 = player_input3.lower()\n",
    "    print()\n",
    "    print('Here are your ships: ')\n",
    "    for item in grid:\n",
    "        print(startturn(item, player_input1, player_input2, player_input3))"
   ]
  },
  {
   "cell_type": "code",
   "execution_count": 134,
   "metadata": {
    "scrolled": true
   },
   "outputs": [
    {
     "name": "stdout",
     "output_type": "stream",
     "text": [
      "Please pick a square: a1\n",
      "\n",
      "Please pick a second square: b2\n",
      "\n",
      "Please pick a third square: c3\n",
      "\n",
      "Here are your ships: \n",
      "X . . . . \n",
      ". X . . . \n",
      ". . X . . \n",
      ". . . . . \n",
      ". . . . . \n"
     ]
    }
   ],
   "source": [
    "printplayerturn()"
   ]
  },
  {
   "cell_type": "markdown",
   "metadata": {},
   "source": [
    "# Player's guess"
   ]
  },
  {
   "cell_type": "code",
   "execution_count": 13,
   "metadata": {},
   "outputs": [
    {
     "name": "stdout",
     "output_type": "stream",
     "text": [
      "['d3', 'a5', 'e2']\n"
     ]
    }
   ],
   "source": [
    "print(multi)\n",
    "\n",
    "def playerguess(x):\n",
    "    count = 0\n",
    "\n",
    "    while count<3:\n",
    "        guess = input('Your turn to guess... ')\n",
    "        guess = guess.lower()\n",
    "        for item in x:\n",
    "            if guess == item:\n",
    "                print('Hit!')\n",
    "            else:\n",
    "                print('Miss...')\n",
    "            count += 1\n",
    "        #print(count)"
   ]
  },
  {
   "cell_type": "code",
   "execution_count": 14,
   "metadata": {},
   "outputs": [
    {
     "name": "stdout",
     "output_type": "stream",
     "text": [
      "Your turn to guess... d3\n",
      "Hit!\n",
      "Miss...\n",
      "Miss...\n",
      "Your turn to guess... a4\n",
      "Miss...\n",
      "Miss...\n",
      "Miss...\n",
      "Your turn to guess... e1\n",
      "Miss...\n",
      "Miss...\n",
      "Miss...\n"
     ]
    }
   ],
   "source": [
    "playerguess(multi)"
   ]
  },
  {
   "cell_type": "code",
   "execution_count": 93,
   "metadata": {},
   "outputs": [
    {
     "name": "stdout",
     "output_type": "stream",
     "text": [
      ". . . . . \n",
      ". . . . . \n",
      "X . . X . \n",
      ". . . . . \n",
      ". . . X . \n",
      "None\n"
     ]
    }
   ],
   "source": [
    "compboard = printcompturn()\n",
    "print(compboard)"
   ]
  }
 ],
 "metadata": {
  "kernelspec": {
   "display_name": "Python 3",
   "language": "python",
   "name": "python3"
  },
  "language_info": {
   "codemirror_mode": {
    "name": "ipython",
    "version": 3
   },
   "file_extension": ".py",
   "mimetype": "text/x-python",
   "name": "python",
   "nbconvert_exporter": "python",
   "pygments_lexer": "ipython3",
   "version": "3.7.3"
  }
 },
 "nbformat": 4,
 "nbformat_minor": 2
}
