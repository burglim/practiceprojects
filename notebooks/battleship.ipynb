{
 "cells": [
  {
   "cell_type": "code",
   "execution_count": 1,
   "metadata": {},
   "outputs": [],
   "source": [
    "import numpy as np\n",
    "import random"
   ]
  },
  {
   "cell_type": "markdown",
   "metadata": {},
   "source": [
    "# Building a board"
   ]
  },
  {
   "cell_type": "markdown",
   "metadata": {},
   "source": [
    "Creating the game board with np.array vs using lists:\n",
    "* NB I don't know anything about arrays yet, so just testing this out, and will learn what to do with them later :)"
   ]
  },
  {
   "cell_type": "code",
   "execution_count": 137,
   "metadata": {
    "scrolled": true
   },
   "outputs": [
    {
     "name": "stdout",
     "output_type": "stream",
     "text": [
      "[['a1' 'a2' 'a3' 'a4' 'a5']\n",
      " ['b1' 'b2' 'b3' 'b4' 'b5']\n",
      " ['c1' 'c2' 'c3' 'c4' 'c5']\n",
      " ['d1' 'd2' 'd3' 'd4' 'd5']\n",
      " ['e1' 'e2' 'e3' 'e4' 'e5']]\n"
     ]
    },
    {
     "data": {
      "text/plain": [
       "numpy.ndarray"
      ]
     },
     "execution_count": 137,
     "metadata": {},
     "output_type": "execute_result"
    }
   ],
   "source": [
    "#array\n",
    "grid1 = np.array([[\"a1\", \"a2\", \"a3\", \"a4\", \"a5\"], \n",
    "                 [\"b1\", \"b2\", \"b3\", \"b4\", \"b5\"], \n",
    "                 [\"c1\", \"c2\", \"c3\", \"c4\", \"c5\"],\n",
    "                 [\"d1\", \"d2\", \"d3\", \"d4\", \"d5\"],\n",
    "                 [\"e1\", \"e2\", \"e3\", \"e4\", \"e5\"]])\n",
    "print(grid1)\n",
    "type(grid1)"
   ]
  },
  {
   "cell_type": "code",
   "execution_count": 63,
   "metadata": {},
   "outputs": [
    {
     "name": "stdout",
     "output_type": "stream",
     "text": [
      "['a1', 'a2', 'a3', 'a4', 'a5']\n",
      "['b1', 'b2', 'b3', 'b4', 'b5']\n",
      "['c1', 'c2', 'c3', 'c4', 'c5']\n",
      "['d1', 'd2', 'd3', 'd4', 'd5']\n",
      "['e1', 'e2', 'e3', 'e4', 'e5']\n"
     ]
    }
   ],
   "source": [
    "#using lists to make a grid, a bit manual I know. \n",
    "#But at least I can currently work with indexing a list within a list to locate a particular point!\n",
    "row1 = [\"a1\", \"a2\", \"a3\", \"a4\", \"a5\"]\n",
    "row2 = [\"b1\", \"b2\", \"b3\", \"b4\", \"b5\"]\n",
    "row3 = [\"c1\", \"c2\", \"c3\", \"c4\", \"c5\"]\n",
    "row4 = [\"d1\", \"d2\", \"d3\", \"d4\", \"d5\"]\n",
    "row5 = [\"e1\", \"e2\", \"e3\", \"e4\", \"e5\"]\n",
    "\n",
    "grid = [row1, row2, row3, row4, row5]\n",
    "for i in grid:\n",
    "    print(i)"
   ]
  },
  {
   "cell_type": "markdown",
   "metadata": {},
   "source": [
    "Function to print blank board, with ability to specify which point is hit. This will be useful later to modify so that another function tells the board which point to hit"
   ]
  },
  {
   "cell_type": "code",
   "execution_count": 65,
   "metadata": {
    "scrolled": true
   },
   "outputs": [
    {
     "name": "stdout",
     "output_type": "stream",
     "text": [
      ". . X . . \n",
      ". . . . . \n",
      ". . . . . \n",
      ". . . . . \n",
      ". . . . . \n"
     ]
    }
   ],
   "source": [
    "def board(row):\n",
    "    blank = ''\n",
    "    for i in row:\n",
    "        if i == \"a3\":\n",
    "            blank += 'X '\n",
    "        else: \n",
    "            blank += '. '\n",
    "    return blank\n",
    "\n",
    "for item in grid:\n",
    "    print(board(item))"
   ]
  },
  {
   "cell_type": "markdown",
   "metadata": {},
   "source": [
    "# Computer's move"
   ]
  },
  {
   "cell_type": "code",
   "execution_count": 172,
   "metadata": {},
   "outputs": [],
   "source": [
    "def pointgen():\n",
    "    randrow = random.randint(0,4)\n",
    "    rowselect = grid[randrow]\n",
    "    colselect = random.randint(0,4)\n",
    "    point = rowselect[colselect]\n",
    "    return point"
   ]
  },
  {
   "cell_type": "code",
   "execution_count": 173,
   "metadata": {},
   "outputs": [
    {
     "data": {
      "text/plain": [
       "'b4'"
      ]
     },
     "execution_count": 173,
     "metadata": {},
     "output_type": "execute_result"
    }
   ],
   "source": [
    "pointgen()"
   ]
  },
  {
   "cell_type": "code",
   "execution_count": 174,
   "metadata": {
    "scrolled": true
   },
   "outputs": [],
   "source": [
    "def compmove(board, generate):\n",
    "    blank = ''\n",
    "    for i in board:\n",
    "        if i == generate:\n",
    "            blank += 'X '\n",
    "        else: \n",
    "            blank += '. '\n",
    "    return blank"
   ]
  },
  {
   "cell_type": "code",
   "execution_count": 175,
   "metadata": {},
   "outputs": [],
   "source": [
    "def printboard():\n",
    "    generate = pointgen()\n",
    "    for item in grid:\n",
    "        print(compmove(item, generate))"
   ]
  },
  {
   "cell_type": "code",
   "execution_count": 176,
   "metadata": {},
   "outputs": [
    {
     "name": "stdout",
     "output_type": "stream",
     "text": [
      ". . . . . \n",
      ". . . . . \n",
      ". X . . . \n",
      ". . . . . \n",
      ". . . . . \n"
     ]
    }
   ],
   "source": [
    "printboard()"
   ]
  },
  {
   "cell_type": "code",
   "execution_count": null,
   "metadata": {},
   "outputs": [],
   "source": []
  }
 ],
 "metadata": {
  "kernelspec": {
   "display_name": "Python 3",
   "language": "python",
   "name": "python3"
  },
  "language_info": {
   "codemirror_mode": {
    "name": "ipython",
    "version": 3
   },
   "file_extension": ".py",
   "mimetype": "text/x-python",
   "name": "python",
   "nbconvert_exporter": "python",
   "pygments_lexer": "ipython3",
   "version": "3.7.3"
  }
 },
 "nbformat": 4,
 "nbformat_minor": 2
}
