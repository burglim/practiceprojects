{
 "cells": [
  {
   "cell_type": "markdown",
   "metadata": {},
   "source": [
    "## Player's input"
   ]
  },
  {
   "cell_type": "code",
   "execution_count": 19,
   "metadata": {},
   "outputs": [
    {
     "name": "stdout",
     "output_type": "stream",
     "text": [
      "Are you rock, paper or scissors? Type in the box below\n",
      "rock\n"
     ]
    },
    {
     "data": {
      "text/plain": [
       "1"
      ]
     },
     "execution_count": 19,
     "metadata": {},
     "output_type": "execute_result"
    }
   ],
   "source": [
    "def playerassign():\n",
    "    turn = 0\n",
    "    while turn<1:\n",
    "        player = input('Are you rock, paper or scissors? Type in the box below\\n')\n",
    "        if player.lower() == 'rock':\n",
    "            playerturn = 1\n",
    "            turn=1\n",
    "            return playerturn\n",
    "            #print(playerturn)\n",
    "            \n",
    "        elif player.lower() == 'paper':\n",
    "            playerturn = 2\n",
    "            turn=1\n",
    "            return playerturn\n",
    "            #print(playerturn)\n",
    "            \n",
    "        elif player.lower() == 'scissors':\n",
    "            playerturn = 3\n",
    "            turn=1\n",
    "            return playerturn\n",
    "            #print(playerturn)\n",
    "            \n",
    "        else:\n",
    "            print('Please type one of the three options provided')\n",
    "\n",
    "player = playerassign()\n",
    "player\n",
    "# How do I get it NOT to print playerturn in the output box, \n",
    "#while still enabling the other functions to access the playerturn value \n",
    "#(I thought I need to return in order to do this)?"
   ]
  },
  {
   "cell_type": "markdown",
   "metadata": {},
   "source": [
    "## Generates computer's move and tells the player"
   ]
  },
  {
   "cell_type": "code",
   "execution_count": 20,
   "metadata": {},
   "outputs": [
    {
     "name": "stdout",
     "output_type": "stream",
     "text": [
      "I was a rock\n"
     ]
    }
   ],
   "source": [
    "from random import randint\n",
    "comp = randint(1,3)\n",
    "    \n",
    "def compturn():\n",
    "    if comp == 1:\n",
    "        print('I was a rock')\n",
    "        return\n",
    "    elif comp ==2:\n",
    "        print('I was paper')\n",
    "        return\n",
    "    else: \n",
    "        print('I was scissors')\n",
    "\n",
    "#print(comp)\n",
    "computer = compturn()\n",
    "#computer"
   ]
  },
  {
   "cell_type": "markdown",
   "metadata": {},
   "source": [
    "## Scorer compares computer (comp) and player score (playerturn)"
   ]
  },
  {
   "cell_type": "code",
   "execution_count": 21,
   "metadata": {},
   "outputs": [
    {
     "name": "stdout",
     "output_type": "stream",
     "text": [
      "Draw!\n"
     ]
    }
   ],
   "source": [
    "def scorer():\n",
    "    flag = 0\n",
    "\n",
    "    while flag < 1:\n",
    "        if comp == player:\n",
    "            flag = 1\n",
    "            return 'Draw!'\n",
    "        \n",
    "        elif comp == 1 and player == 3:\n",
    "            flag = 1\n",
    "            return 'Rock beats scissors - you lose!'\n",
    "            \n",
    "        elif comp == 1 and player == 2:\n",
    "            flag = 1\n",
    "            return 'Paper beats rock - you win!'\n",
    "            \n",
    "        elif comp == 2 and player == 1:\n",
    "            flag = 1\n",
    "            return 'Paper beats rock - you lose!'\n",
    "            \n",
    "        elif comp == 2 and player == 3:\n",
    "            flag = 1\n",
    "            return 'Scissors beat paper - you win!'\n",
    "            \n",
    "        elif comp == 3 and player == 1:\n",
    "            flag = 1\n",
    "            return 'Rock beats scissors - you win!'\n",
    "            \n",
    "        elif comp == 3 and player == 2:\n",
    "            flag = 1\n",
    "            return 'Scissors beat paper - you lose!'\n",
    "            \n",
    "        else:\n",
    "            flag = 1\n",
    "            return 'Error'\n",
    "\n",
    "score = scorer()\n",
    "print(score)"
   ]
  },
  {
   "cell_type": "code",
   "execution_count": 17,
   "metadata": {},
   "outputs": [],
   "source": [
    "def play():\n",
    "#1 overarching function to run all three functions one after the other - can't get this to work!"
   ]
  },
  {
   "cell_type": "code",
   "execution_count": null,
   "metadata": {},
   "outputs": [],
   "source": []
  }
 ],
 "metadata": {
  "kernelspec": {
   "display_name": "Python 3",
   "language": "python",
   "name": "python3"
  },
  "language_info": {
   "codemirror_mode": {
    "name": "ipython",
    "version": 3
   },
   "file_extension": ".py",
   "mimetype": "text/x-python",
   "name": "python",
   "nbconvert_exporter": "python",
   "pygments_lexer": "ipython3",
   "version": "3.7.3"
  }
 },
 "nbformat": 4,
 "nbformat_minor": 2
}
