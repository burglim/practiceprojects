{
 "cells": [
  {
   "cell_type": "markdown",
   "metadata": {},
   "source": [
    "## Player's input"
   ]
  },
  {
   "cell_type": "code",
   "execution_count": 35,
   "metadata": {},
   "outputs": [
    {
     "name": "stdout",
     "output_type": "stream",
     "text": [
      "Are you rock, paper or scissors? Type in the box below\n",
      "paperp\n",
      "Please type one of the three options provided\n",
      "Are you rock, paper or scissors? Type in the box below\n",
      "paper\n"
     ]
    },
    {
     "data": {
      "text/plain": [
       "2"
      ]
     },
     "execution_count": 35,
     "metadata": {},
     "output_type": "execute_result"
    }
   ],
   "source": [
    "def playerassign():\n",
    "    turn = 0\n",
    "    while turn<1:\n",
    "        player = input('Are you rock, paper or scissors? Type in the box below\\n')\n",
    "        if player.lower() == 'rock':\n",
    "            playerturn = 1\n",
    "            turn=1\n",
    "            return playerturn\n",
    "            \n",
    "        elif player.lower() == 'paper':\n",
    "            playerturn = 2\n",
    "            turn=1\n",
    "            return playerturn\n",
    "            \n",
    "        elif player.lower() == 'scissors':\n",
    "            playerturn = 3\n",
    "            turn=1\n",
    "            return playerturn\n",
    "            \n",
    "        else:\n",
    "            print('Please type one of the three options provided')\n",
    "\n",
    "#player = playerassign()\n",
    "#player"
   ]
  },
  {
   "cell_type": "markdown",
   "metadata": {},
   "source": [
    "## Generates computer's move and tells the player"
   ]
  },
  {
   "cell_type": "code",
   "execution_count": 30,
   "metadata": {},
   "outputs": [],
   "source": [
    "#from random import randint\n",
    "#comp = randint(1,3)\n",
    "    \n",
    "#def compturn():\n",
    "#    if comp == 1:\n",
    "#        return 'I was a rock'\n",
    "       \n",
    "#    elif comp ==2:\n",
    "#        return 'I was paper'\n",
    "#    else: \n",
    "#        return 'I was scissors'\n",
    "\n",
    "#print(comp)\n",
    "#computer = compturn()\n",
    "#print(computer)"
   ]
  },
  {
   "cell_type": "markdown",
   "metadata": {},
   "source": [
    "## Scorer generates and compares computer (comp) and player score (playerturn)"
   ]
  },
  {
   "cell_type": "code",
   "execution_count": 88,
   "metadata": {},
   "outputs": [
    {
     "name": "stdout",
     "output_type": "stream",
     "text": [
      "2\n",
      "I was paper\n",
      "Draw!\n"
     ]
    }
   ],
   "source": [
    "def scorer():\n",
    "    flag = 0\n",
    "    from random import randint\n",
    "    comp = randint(1,2)\n",
    "    \n",
    "    def compturn():\n",
    "        if comp == 1:\n",
    "            return 'I was a rock'\n",
    "       \n",
    "        elif comp == 2:\n",
    "            return 'I was paper'\n",
    "        else: \n",
    "            return 'I was scissors'\n",
    "#THE ISSUE IS HERE: COMP GENERATES 2 EVERY TIME\n",
    "\n",
    "    computer = compturn()\n",
    "    print(computer)\n",
    "    \n",
    "    while flag < 1:\n",
    "        if comp == player:\n",
    "            flag = 1\n",
    "            return 'Draw!'\n",
    "        \n",
    "        elif comp == 1 and player == 3:\n",
    "            flag = 1\n",
    "            return 'Rock beats scissors - you lose!'\n",
    "            \n",
    "        elif comp == 1 and player == 2:\n",
    "            flag = 1\n",
    "            return 'Paper beats rock - you win!'\n",
    "            \n",
    "        elif comp == 2 and player == 1:\n",
    "            flag = 1\n",
    "            return 'Paper beats rock - you lose!'\n",
    "            \n",
    "        elif comp == 2 and player == 3:\n",
    "            flag = 1\n",
    "            return 'Scissors beat paper - you win!'\n",
    "            \n",
    "        elif comp == 3 and player == 1:\n",
    "            flag = 1\n",
    "            return 'Rock beats scissors - you win!'\n",
    "            \n",
    "        elif comp == 3 and player == 2:\n",
    "            flag = 1\n",
    "            return 'Scissors beat paper - you lose!'\n",
    "            \n",
    "        else:\n",
    "            flag = 1\n",
    "            return 'Error'\n",
    "\n",
    "print(comp)\n",
    "score = scorer()\n",
    "print(score)\n"
   ]
  },
  {
   "cell_type": "code",
   "execution_count": 87,
   "metadata": {},
   "outputs": [
    {
     "name": "stdout",
     "output_type": "stream",
     "text": [
      "Are you rock, paper or scissors? Type in the box below\n",
      "scissors\n",
      "I was paper\n",
      "Paper beats rock - you win!\n"
     ]
    }
   ],
   "source": [
    "def play():\n",
    "    player = playerassign()\n",
    "    score = scorer()\n",
    "    player\n",
    "    print(score)\n",
    "\n",
    "play()\n",
    "#for some reason it now thinks player is rock every time? In addition to problem with generating comp"
   ]
  },
  {
   "cell_type": "code",
   "execution_count": null,
   "metadata": {},
   "outputs": [],
   "source": []
  }
 ],
 "metadata": {
  "kernelspec": {
   "display_name": "Python 3",
   "language": "python",
   "name": "python3"
  },
  "language_info": {
   "codemirror_mode": {
    "name": "ipython",
    "version": 3
   },
   "file_extension": ".py",
   "mimetype": "text/x-python",
   "name": "python",
   "nbconvert_exporter": "python",
   "pygments_lexer": "ipython3",
   "version": "3.7.3"
  }
 },
 "nbformat": 4,
 "nbformat_minor": 2
}
