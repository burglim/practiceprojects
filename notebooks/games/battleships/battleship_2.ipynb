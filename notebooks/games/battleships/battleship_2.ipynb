{
 "cells": [
  {
   "cell_type": "code",
   "execution_count": 107,
   "metadata": {},
   "outputs": [],
   "source": [
    "import random\n",
    "\n",
    "#GLOBAL VARIABLES\n",
    "rows = ['a', 'b', 'c', 'd', 'e']\n",
    "columns = ['1', '2', '3', '4', '5']"
   ]
  },
  {
   "cell_type": "code",
   "execution_count": 253,
   "metadata": {},
   "outputs": [],
   "source": [
    "class Square:\n",
    "    \n",
    "    def __init__(self, row, column):\n",
    "        self.row = row\n",
    "        self.column = column\n",
    "        self.location = str(row)+str(column)\n",
    "        self.prints = '. '\n",
    "    \n",
    "    def __str__(self):\n",
    "        return f'{self.row}{self.column}'"
   ]
  },
  {
   "cell_type": "code",
   "execution_count": 401,
   "metadata": {},
   "outputs": [],
   "source": [
    "class Board:\n",
    "    \n",
    "    def __init__(self):\n",
    "        self.board_list = []\n",
    "        for row in rows:\n",
    "            for column in columns:\n",
    "                self.board_list.append(Square(row,column))\n",
    "                \n",
    "    def __str__(self):\n",
    "        for item in self.board_list:\n",
    "            print(f'{item.location}')\n",
    "        return f'{len(self.board_list)} squares'\n",
    "    \n",
    "    def shuffle(self):\n",
    "        random.shuffle(self.board_list)\n",
    "    \n",
    "    def row_finder(self, row_letter):\n",
    "        self.row_letter = row_letter\n",
    "        \n",
    "        for item in self.board_list:\n",
    "            if item.row == self.row_letter:\n",
    "                print(f'{item.location}')"
   ]
  },
  {
   "cell_type": "code",
   "execution_count": 402,
   "metadata": {},
   "outputs": [],
   "source": [
    "my_board = Board()"
   ]
  },
  {
   "cell_type": "code",
   "execution_count": 404,
   "metadata": {},
   "outputs": [
    {
     "name": "stdout",
     "output_type": "stream",
     "text": [
      "c1\n",
      "c2\n",
      "c3\n",
      "c4\n",
      "c5\n"
     ]
    }
   ],
   "source": [
    "my_board.row_finder('c')"
   ]
  },
  {
   "cell_type": "code",
   "execution_count": 267,
   "metadata": {
    "scrolled": true
   },
   "outputs": [
    {
     "name": "stdout",
     "output_type": "stream",
     "text": [
      "e5\n"
     ]
    }
   ],
   "source": [
    "print(my_board.board_list[-1])"
   ]
  },
  {
   "cell_type": "code",
   "execution_count": 268,
   "metadata": {},
   "outputs": [
    {
     "name": "stdout",
     "output_type": "stream",
     "text": [
      ". \n"
     ]
    }
   ],
   "source": [
    "print(my_board.board_list[-1].prints)"
   ]
  },
  {
   "cell_type": "code",
   "execution_count": 396,
   "metadata": {},
   "outputs": [],
   "source": [
    "class Ships:\n",
    "    \n",
    "    def __init__(self, board):\n",
    "        self.board = board\n",
    "        pass\n",
    "    \n",
    "    def pointgen(self, length):\n",
    "        self.length = length\n",
    "        self.count = 0\n",
    "        self.values = []\n",
    "        while self.count < self.length:\n",
    "            rand = random.randint(0,24)\n",
    "            point = self.board.board_list[rand]\n",
    "            if point in self.values:\n",
    "                pass\n",
    "            else:\n",
    "                self.values.append(point)\n",
    "                self.count += 1\n",
    "        for item in self.values:\n",
    "            print(item)\n",
    "        return self.values\n",
    "    \n",
    "    def player_choice(self, length):\n",
    "        self.length = length\n",
    "        self.count = 0\n",
    "        self.values = []\n",
    "        self.check_list = []\n",
    "        for item in self.board.board_list:\n",
    "            self.check_list.append(item.location)\n",
    "        \n",
    "        while self.count < self.length:\n",
    "            valid_check = False\n",
    "            \n",
    "            while valid_check == False:\n",
    "                player_input = input('Please pick a square: ')\n",
    "                if player_input in self.check_list: \n",
    "                    valid_check = True\n",
    "                    break\n",
    "                else:\n",
    "                    print('Please enter a valid location')\n",
    "                    \n",
    "            if player_input in self.values:\n",
    "                print('Please enter a unique location')\n",
    "                valid_check = False\n",
    "            else:\n",
    "                self.values.append(player_input)\n",
    "                print('Location accepted')\n",
    "                self.count+=1\n",
    "\n",
    "        print(f'Final chosen locations: {self.values}')\n",
    "        return self.values\n",
    "        "
   ]
  },
  {
   "cell_type": "code",
   "execution_count": 405,
   "metadata": {},
   "outputs": [
    {
     "name": "stdout",
     "output_type": "stream",
     "text": [
      "b3\n"
     ]
    },
    {
     "data": {
      "text/plain": [
       "[<__main__.Square at 0x221d24f6a60>]"
      ]
     },
     "execution_count": 405,
     "metadata": {},
     "output_type": "execute_result"
    }
   ],
   "source": [
    "test_point_gen = Ships(my_board)\n",
    "generated2 = test_point_gen.pointgen(1)\n",
    "generated2"
   ]
  },
  {
   "cell_type": "code",
   "execution_count": 398,
   "metadata": {},
   "outputs": [
    {
     "name": "stdout",
     "output_type": "stream",
     "text": [
      "Please pick a square: a1\n",
      "Location accepted\n",
      "Please pick a square: a2\n",
      "Location accepted\n",
      "Please pick a square: a3\n",
      "Location accepted\n",
      "a1\n",
      "a2\n",
      "a3\n",
      "Final chosen locations: ['a1', 'a2', 'a3']\n"
     ]
    },
    {
     "data": {
      "text/plain": [
       "['a1', 'a2', 'a3']"
      ]
     },
     "execution_count": 398,
     "metadata": {},
     "output_type": "execute_result"
    }
   ],
   "source": [
    "test_point_gen.player_choice(3)"
   ]
  },
  {
   "cell_type": "code",
   "execution_count": 409,
   "metadata": {},
   "outputs": [],
   "source": [
    "class Guess:\n",
    "    #asks for player guess (using Ships.player_choice()) and compares it/location to computer ships, returns true if hit\n",
    "    #generates computer guess (using Ships.pointgen()) and compares it to player ships, returns true if hit\n",
    "\n",
    "    def __init__(self, guess, ships):\n",
    "        self.guess = guess #this will be a single value\n",
    "        self.ships = ships #this will be a list\n",
    "        \n",
    "    def player_guess(self):\n",
    "        pass\n",
    "    \n",
    "    def computer_guess(self):\n",
    "        pass\n",
    "    \n",
    "    def marker_update(self, guess, marker):\n",
    "        self.marker = marker\n",
    "        #takes generated Square(row,column) and changes the board_list item.prints to hit (*) or miss(-) \n",
    "        pass"
   ]
  }
 ],
 "metadata": {
  "kernelspec": {
   "display_name": "Python 3",
   "language": "python",
   "name": "python3"
  },
  "language_info": {
   "codemirror_mode": {
    "name": "ipython",
    "version": 3
   },
   "file_extension": ".py",
   "mimetype": "text/x-python",
   "name": "python",
   "nbconvert_exporter": "python",
   "pygments_lexer": "ipython3",
   "version": "3.8.3"
  }
 },
 "nbformat": 4,
 "nbformat_minor": 4
}
