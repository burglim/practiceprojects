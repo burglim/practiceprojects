{
 "cells": [
  {
   "cell_type": "code",
   "execution_count": 2,
   "metadata": {},
   "outputs": [],
   "source": [
    "from random import randint"
   ]
  },
  {
   "cell_type": "code",
   "execution_count": 8,
   "metadata": {},
   "outputs": [
    {
     "name": "stdout",
     "output_type": "stream",
     "text": [
      "What number am I thinking of? \n",
      "Hello pod\n",
      "You silly numpty, I said NUMBER\n"
     ]
    }
   ],
   "source": [
    "num = randint(1,100)\n",
    "#print(num)\n",
    "end = 0\n",
    "\n",
    "while end<1:\n",
    "    guess = input('What number am I thinking of? \\n')\n",
    "    try:\n",
    "        guess = float(guess)\n",
    "        if guess < 0 or guess > 100:\n",
    "            print('Please enter a number between 1 and 100\\n')\n",
    "        elif guess // 1 != guess:\n",
    "            print('Please enter a whole number\\n')\n",
    "        elif guess == num:\n",
    "            print('CORRECT!\\n')\n",
    "            end = 1\n",
    "        elif guess < num:\n",
    "            print('Too low...\\n')\n",
    "        elif guess > num:\n",
    "            print('Too high...\\n')\n",
    "        else:\n",
    "            pass\n",
    "    except ValueError:\n",
    "        print('You silly numpty, I said NUMBER')\n",
    "        end = 1\n",
    "        \n",
    "    "
   ]
  },
  {
   "cell_type": "code",
   "execution_count": null,
   "metadata": {},
   "outputs": [],
   "source": []
  }
 ],
 "metadata": {
  "kernelspec": {
   "display_name": "Python 3",
   "language": "python",
   "name": "python3"
  },
  "language_info": {
   "codemirror_mode": {
    "name": "ipython",
    "version": 3
   },
   "file_extension": ".py",
   "mimetype": "text/x-python",
   "name": "python",
   "nbconvert_exporter": "python",
   "pygments_lexer": "ipython3",
   "version": "3.7.3"
  }
 },
 "nbformat": 4,
 "nbformat_minor": 2
}
