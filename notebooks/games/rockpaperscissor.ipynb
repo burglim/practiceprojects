{
 "cells": [
  {
   "cell_type": "markdown",
   "metadata": {},
   "source": [
    "## Player's input"
   ]
  },
  {
   "cell_type": "code",
   "execution_count": 8,
   "metadata": {},
   "outputs": [
    {
     "name": "stdout",
     "output_type": "stream",
     "text": [
      "Are you rock, paper or scissors? Type in the box below\n",
      "rock\n"
     ]
    },
    {
     "data": {
      "text/plain": [
       "1"
      ]
     },
     "execution_count": 8,
     "metadata": {},
     "output_type": "execute_result"
    }
   ],
   "source": [
    "def playerassign():\n",
    "    turn = 0\n",
    "    while turn<1:\n",
    "        player = input('Are you rock, paper or scissors? Type in the box below\\n')\n",
    "        if player.lower() == 'rock':\n",
    "            playerturn = 1\n",
    "            turn=1\n",
    "            return playerturn\n",
    "            \n",
    "        elif player.lower() == 'paper':\n",
    "            playerturn = 2\n",
    "            turn=1\n",
    "            return playerturn\n",
    "            \n",
    "        elif player.lower() == 'scissors':\n",
    "            playerturn = 3\n",
    "            turn=1\n",
    "            return playerturn\n",
    "            \n",
    "        else:\n",
    "            print('Please type one of the three options provided')\n",
    "\n",
    "#player1 = playerassign()"
   ]
  },
  {
   "cell_type": "markdown",
   "metadata": {},
   "source": [
    "## Scorer generates and compares computer (comp) and player score (playerturn)"
   ]
  },
  {
   "cell_type": "code",
   "execution_count": null,
   "metadata": {},
   "outputs": [],
   "source": [
    "import random\n",
    "#comp1 = random.randint(1,3)"
   ]
  },
  {
   "cell_type": "code",
   "execution_count": 10,
   "metadata": {},
   "outputs": [],
   "source": [
    "def compturn(comp):\n",
    "    if comp == 1:\n",
    "        return 'I was a rock'\n",
    "    elif comp == 2:\n",
    "        return 'I was paper'\n",
    "    else: \n",
    "        return 'I was scissors'"
   ]
  },
  {
   "cell_type": "code",
   "execution_count": 11,
   "metadata": {},
   "outputs": [
    {
     "name": "stdout",
     "output_type": "stream",
     "text": [
      "I was paper\n",
      "Paper beats rock - you lose!\n"
     ]
    }
   ],
   "source": [
    "def scorer(comp,player):\n",
    "    flag = 0\n",
    "\n",
    "    computer = compturn(comp)\n",
    "    print(computer)\n",
    "    \n",
    "    while flag < 1:\n",
    "        #while comp != player:\n",
    "        if comp == player:\n",
    "            flag = 1\n",
    "            return 'Draw!'\n",
    "        \n",
    "        elif comp == 1 and player == 3:\n",
    "            flag = 1\n",
    "            return 'Rock beats scissors - you lose!'\n",
    "            \n",
    "        elif comp == 1 and player == 2:\n",
    "            flag = 1\n",
    "            return 'Paper beats rock - you win!'\n",
    "            \n",
    "        elif comp == 2 and player == 1:\n",
    "            flag = 1\n",
    "            return 'Paper beats rock - you lose!'\n",
    "            \n",
    "        elif comp == 2 and player == 3:\n",
    "            flag = 1\n",
    "            return 'Scissors beat paper - you win!'\n",
    "            \n",
    "        elif comp == 3 and player == 1:\n",
    "            flag = 1\n",
    "            return 'Rock beats scissors - you win!'\n",
    "            \n",
    "        elif comp == 3 and player == 2:\n",
    "            flag = 1\n",
    "            return 'Scissors beat paper - you lose!'\n",
    "            \n",
    "        else:\n",
    "            flag = 1\n",
    "            return 'Error'\n",
    "\n",
    "#score1 = scorer(comp1,player1)\n",
    "#print(score1)"
   ]
  },
  {
   "cell_type": "code",
   "execution_count": 15,
   "metadata": {},
   "outputs": [
    {
     "name": "stdout",
     "output_type": "stream",
     "text": [
      "Are you rock, paper or scissors? Type in the box below\n",
      "rock\n",
      "I was paper\n",
      "Paper beats rock - you lose!\n"
     ]
    }
   ],
   "source": [
    "def play():\n",
    "    comp2 = random.randint(1,3)\n",
    "    player2 = playerassign()\n",
    "    score2 = scorer(comp2,player2)\n",
    "    print(score2)"
   ]
  },
  {
   "cell_type": "code",
   "execution_count": 16,
   "metadata": {},
   "outputs": [
    {
     "name": "stdout",
     "output_type": "stream",
     "text": [
      "Are you rock, paper or scissors? Type in the box below\n",
      "rock\n",
      "I was a rock\n",
      "Draw!\n"
     ]
    }
   ],
   "source": [
    "play()"
   ]
  },
  {
   "cell_type": "code",
   "execution_count": null,
   "metadata": {},
   "outputs": [],
   "source": []
  }
 ],
 "metadata": {
  "kernelspec": {
   "display_name": "Python 3",
   "language": "python",
   "name": "python3"
  },
  "language_info": {
   "codemirror_mode": {
    "name": "ipython",
    "version": 3
   },
   "file_extension": ".py",
   "mimetype": "text/x-python",
   "name": "python",
   "nbconvert_exporter": "python",
   "pygments_lexer": "ipython3",
   "version": "3.7.3"
  }
 },
 "nbformat": 4,
 "nbformat_minor": 2
}
