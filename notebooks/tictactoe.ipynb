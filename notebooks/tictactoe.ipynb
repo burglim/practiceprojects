{
 "cells": [
  {
   "cell_type": "markdown",
   "metadata": {},
   "source": [
    "# Tic Tac Toe - 2 Player Game"
   ]
  },
  {
   "cell_type": "markdown",
   "metadata": {},
   "source": [
    "Steps:\n",
    "Display board function;\n",
    "Board list - default;\n",
    "Set icons for players (input);\n",
    "Start game (input);\n",
    "\n",
    "\n",
    "\n",
    "Player turns;\n",
    "Update board;\n",
    "Redisplay board;\n",
    "Once 5 moves made, check for win\n",
    "Once 9 moves made without a win, draw"
   ]
  },
  {
   "cell_type": "code",
   "execution_count": 1,
   "metadata": {},
   "outputs": [],
   "source": [
    "from IPython.display import clear_output"
   ]
  },
  {
   "cell_type": "code",
   "execution_count": 2,
   "metadata": {},
   "outputs": [],
   "source": [
    "#values = {1:' ', 2:' ', 3:' ', 4:' ', 5:' ', 6: ' ', 7:' ', 8:' ', 9:' '}"
   ]
  },
  {
   "cell_type": "code",
   "execution_count": 3,
   "metadata": {},
   "outputs": [],
   "source": [
    "def displayboard(values):\n",
    "    toprow = f' {values[1]} | {values[2]} | {values[3]}'\n",
    "    midrow = f' {values[4]} | {values[5]} | {values[6]}'\n",
    "    botrow = f' {values[7]} | {values[8]} | {values[9]}'\n",
    "    line = '-----------'\n",
    "    \n",
    "    board = [toprow, line, midrow, line, botrow]\n",
    "    for i in board:\n",
    "        print(i)"
   ]
  },
  {
   "cell_type": "code",
   "execution_count": 4,
   "metadata": {},
   "outputs": [],
   "source": [
    "def playericon():\n",
    "    flag = False\n",
    "    while flag == False:\n",
    "        preference = str(input('Player 1: Would you like to be O or X? '))\n",
    "    \n",
    "        if preference.upper() == 'O':\n",
    "            icons = {'p1':'O', 'p2':'X'}\n",
    "            flag = True\n",
    "            print('Player 2: You are X')\n",
    "        elif preference.upper() == 'X':\n",
    "            icons = {'p1':'X', 'p2':'O'}\n",
    "            flag = True\n",
    "            print('Player 2: You are O')\n",
    "        else:\n",
    "            print('Please type either O or X')\n",
    "        continue\n",
    "    \n",
    "    return icons"
   ]
  },
  {
   "cell_type": "code",
   "execution_count": 5,
   "metadata": {},
   "outputs": [],
   "source": [
    "def select(values1, player):\n",
    "    flag = False    \n",
    "    while flag == False:\n",
    "        turn = int(input(f'{player}: Select a square from 1 to 9. '))\n",
    "        \n",
    "        if values1[turn] != ' ':\n",
    "            print('Please select an empty number')\n",
    "        elif turn in range(1,10):\n",
    "            flag = True\n",
    "        else:       \n",
    "            print('Please select a number between 1 and 9')\n",
    "        continue\n",
    "    \n",
    "    return turn"
   ]
  },
  {
   "cell_type": "code",
   "execution_count": 6,
   "metadata": {},
   "outputs": [],
   "source": [
    "def boardupdate(values, select, icon):\n",
    "    clear_output(wait=True)\n",
    "    values[select] = icon\n",
    "    return values"
   ]
  },
  {
   "cell_type": "code",
   "execution_count": 7,
   "metadata": {},
   "outputs": [],
   "source": [
    "def wincheck(values1):\n",
    "    combinations = [[1,2,3], [4,5,6], [7,8,9], [1,4,7], [2,5,8], [3,6,9], [1,5,9], [3,5,7]]\n",
    "    for combo in combinations:\n",
    "        if values1[combo[0]] == values1[combo[1]] and values1[combo[0]] == values1[combo[2]] and values1[combo[0]] != ' ':\n",
    "            result = 1\n",
    "            break\n",
    "        else:\n",
    "            result = 0\n",
    "    return result"
   ]
  },
  {
   "cell_type": "code",
   "execution_count": 8,
   "metadata": {},
   "outputs": [],
   "source": [
    "def gameplay():\n",
    "    values = {1:' ', 2:' ', 3:' ', 4:' ', 5:' ', 6: ' ', 7:' ', 8:' ', 9:' '}\n",
    "    totalturns = 0\n",
    "    status = False\n",
    "    icons = playericon()\n",
    "    print(\"Let's begin!\")\n",
    "    displayboard(values)\n",
    "    \n",
    "    while status == False:\n",
    "        p1 = select(values, 'Player 1')\n",
    "        newboard = boardupdate(values, p1, icons['p1'])\n",
    "        displayboard(values)\n",
    "        totalturns +=1\n",
    "        \n",
    "        if totalturns >= 5:\n",
    "            if wincheck(values) == 1:\n",
    "                winner = 'Player 1 wins!'\n",
    "                status = True\n",
    "                break\n",
    "            else:\n",
    "                status = False\n",
    "        \n",
    "        if totalturns == 9:\n",
    "            print()\n",
    "            print('End of game - DRAW!')\n",
    "            return\n",
    "        \n",
    "        p2 = select(values,'Player 2')\n",
    "        newboard = boardupdate(values, p2, icons['p2'])\n",
    "        displayboard(values)\n",
    "        totalturns +=1\n",
    "        \n",
    "        if totalturns >= 5:\n",
    "            if wincheck(values) == 1:\n",
    "                winner = 'Player 2 wins!'\n",
    "                status = True\n",
    "            else:\n",
    "                status = False\n",
    "            \n",
    "    if status == True:\n",
    "        print()\n",
    "        print(winner)\n",
    "        print('End of game!')\n",
    "        return\n",
    "        "
   ]
  },
  {
   "cell_type": "code",
   "execution_count": 9,
   "metadata": {},
   "outputs": [
    {
     "name": "stdout",
     "output_type": "stream",
     "text": [
      " X | O | O\n",
      "-----------\n",
      " O | X | X\n",
      "-----------\n",
      " X | X | O\n",
      "\n",
      "End of game - DRAW!\n"
     ]
    }
   ],
   "source": [
    "gameplay()"
   ]
  },
  {
   "cell_type": "code",
   "execution_count": null,
   "metadata": {},
   "outputs": [],
   "source": []
  }
 ],
 "metadata": {
  "kernelspec": {
   "display_name": "Python 3",
   "language": "python",
   "name": "python3"
  },
  "language_info": {
   "codemirror_mode": {
    "name": "ipython",
    "version": 3
   },
   "file_extension": ".py",
   "mimetype": "text/x-python",
   "name": "python",
   "nbconvert_exporter": "python",
   "pygments_lexer": "ipython3",
   "version": "3.7.3"
  }
 },
 "nbformat": 4,
 "nbformat_minor": 2
}
