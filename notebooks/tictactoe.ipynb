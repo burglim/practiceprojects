{
 "cells": [
  {
   "cell_type": "markdown",
   "metadata": {},
   "source": [
    "Steps:\n",
    "\n",
    "Display board function;\n",
    "\n",
    "Board list - default;\n",
    "\n",
    "Set icons for players (input);\n",
    "\n",
    "Start game (input);\n",
    "\n",
    "\n",
    "\n",
    "Player turns;\n",
    "\n",
    "Update board;\n",
    "\n",
    "Redisplay board;\n",
    "\n",
    "Once 5 moves made, check for win"
   ]
  },
  {
   "cell_type": "code",
   "execution_count": 1,
   "metadata": {},
   "outputs": [],
   "source": [
    "values = {1:' ', 2:' ', 3:' ', 4:' ', 5:' ', 6: ' ', 7:' ', 8:' ', 9:' '}"
   ]
  },
  {
   "cell_type": "code",
   "execution_count": 2,
   "metadata": {},
   "outputs": [],
   "source": [
    "def displayboard(values):\n",
    "    toprow = f' {values[1]} | {values[2]} | {values[3]}'\n",
    "    midrow = f' {values[4]} | {values[5]} | {values[6]}'\n",
    "    botrow = f' {values[7]} | {values[8]} | {values[9]}'\n",
    "    line = '-----------'\n",
    "    \n",
    "    board = [toprow, line, midrow, line, botrow]\n",
    "    for i in board:\n",
    "        print(i)"
   ]
  },
  {
   "cell_type": "code",
   "execution_count": 3,
   "metadata": {},
   "outputs": [],
   "source": [
    "def playericon():\n",
    "    flag = False\n",
    "    while flag == False:\n",
    "        preference = str(input('Player 1: Would you like to be O or X? '))\n",
    "    \n",
    "        if preference.upper() == 'O':\n",
    "            icons = {'p1':'O', 'p2':'X'}\n",
    "            flag = True\n",
    "            print('Player 2: You are X')\n",
    "        elif preference.upper() == 'X':\n",
    "            icons = {'p1':'X', 'p2':'O'}\n",
    "            flag = True\n",
    "            print('Player 2: You are O')\n",
    "        else:\n",
    "            print('Please type either O or X')\n",
    "        continue\n",
    "    \n",
    "    return icons"
   ]
  },
  {
   "cell_type": "code",
   "execution_count": 6,
   "metadata": {},
   "outputs": [],
   "source": [
    "def p1select(values1):\n",
    "    flag = False    \n",
    "    while flag == False:\n",
    "        turn = int(input('Player 1: Select a square from 1 to 9. '))\n",
    "        \n",
    "        if values1[turn] != ' ':\n",
    "            print('Please select an empty number')\n",
    "        elif turn in range(1,10):\n",
    "            flag = True\n",
    "        else:       \n",
    "            print('Please select a number between 1 and 9')\n",
    "        continue\n",
    "    \n",
    "    return turn"
   ]
  },
  {
   "cell_type": "code",
   "execution_count": 7,
   "metadata": {},
   "outputs": [
    {
     "name": "stdout",
     "output_type": "stream",
     "text": [
      "Player 1: Select a square from 1 to 9. 1\n",
      "Please select an empty number\n",
      "Player 1: Select a square from 1 to 9. 4\n"
     ]
    },
    {
     "data": {
      "text/plain": [
       "4"
      ]
     },
     "execution_count": 7,
     "metadata": {},
     "output_type": "execute_result"
    }
   ],
   "source": [
    "p1select({1:'X', 2:' ', 3:'O', 4:' ', 5:' ', 6: ' ', 7:' ', 8:' ', 9:' '})"
   ]
  },
  {
   "cell_type": "code",
   "execution_count": 9,
   "metadata": {},
   "outputs": [],
   "source": [
    "def p2select(values1):\n",
    "    flag = False    \n",
    "    while flag == False:\n",
    "        turn = int(input('Player 2: Select a square from 1 to 9. '))\n",
    "        \n",
    "        if values1[turn] != ' ':\n",
    "            print('Please select an empty number')\n",
    "        elif turn in range(1,10):\n",
    "            flag = True\n",
    "        else:       \n",
    "            print('Please select a number between 1 and 9')\n",
    "        continue\n",
    "    \n",
    "    return turn"
   ]
  },
  {
   "cell_type": "code",
   "execution_count": 18,
   "metadata": {},
   "outputs": [],
   "source": [
    "def boardupdate(values, select, icon):\n",
    "    clear_output(wait=True)\n",
    "    values[select] = icon\n",
    "    return values"
   ]
  },
  {
   "cell_type": "code",
   "execution_count": 11,
   "metadata": {},
   "outputs": [],
   "source": [
    "def wincheck(values1):\n",
    "    combinations = [[1,2,3], [4,5,6], [7,8,9], [1,4,7], [2,5,8], [3,6,9], [1,5,9], [3,5,7]]\n",
    "    for combo in combinations:\n",
    "        if values1[combo[0]] == values1[combo[1]] and values1[combo[0]] == values1[combo[2]] and values1[combo[0]] != ' ':\n",
    "            result = 1\n",
    "            break\n",
    "        else:\n",
    "            result = 0\n",
    "    return result"
   ]
  },
  {
   "cell_type": "code",
   "execution_count": 19,
   "metadata": {},
   "outputs": [],
   "source": [
    "from IPython.display import clear_output\n",
    "\n",
    "def gameplay():\n",
    "    values = {1:' ', 2:' ', 3:' ', 4:' ', 5:' ', 6: ' ', 7:' ', 8:' ', 9:' '}\n",
    "    totalturns = 0\n",
    "    status = False\n",
    "    icons = playericon()\n",
    "    print(\"Let's begin!\")\n",
    "    displayboard(values)\n",
    "    \n",
    "    while status == False:\n",
    "        p1 = p1select(values)\n",
    "        newboard = boardupdate(values, p1, icons['p1'])\n",
    "        displayboard(values)\n",
    "        totalturns +=1\n",
    "        \n",
    "        if totalturns >= 5:\n",
    "            if wincheck(values) == 1:\n",
    "                status = True\n",
    "                break\n",
    "            else:\n",
    "                status = False\n",
    "        \n",
    "        p2 = p2select(values)\n",
    "        newboard = boardupdate(values, p2, icons['p2'])\n",
    "        displayboard(values)\n",
    "        totalturns +=1\n",
    "        \n",
    "        if totalturns >= 5:\n",
    "            if wincheck(values) == 1:\n",
    "                status = True\n",
    "            else:\n",
    "                status = False\n",
    "            \n",
    "    if status == True:\n",
    "        return 'END OF GAME!'"
   ]
  },
  {
   "cell_type": "code",
   "execution_count": 20,
   "metadata": {},
   "outputs": [
    {
     "name": "stdout",
     "output_type": "stream",
     "text": [
      " O | X |  \n",
      "-----------\n",
      "   | O | X\n",
      "-----------\n",
      "   |   | O\n"
     ]
    },
    {
     "data": {
      "text/plain": [
       "'END OF GAME!'"
      ]
     },
     "execution_count": 20,
     "metadata": {},
     "output_type": "execute_result"
    }
   ],
   "source": [
    "gameplay()"
   ]
  },
  {
   "cell_type": "markdown",
   "metadata": {},
   "source": [
    "NB: Update select function so that I can have same function for both players\n",
    "\n",
    "Try to make a function that works out which player has won so it can say that at the end!"
   ]
  },
  {
   "cell_type": "code",
   "execution_count": null,
   "metadata": {},
   "outputs": [],
   "source": []
  }
 ],
 "metadata": {
  "kernelspec": {
   "display_name": "Python 3",
   "language": "python",
   "name": "python3"
  },
  "language_info": {
   "codemirror_mode": {
    "name": "ipython",
    "version": 3
   },
   "file_extension": ".py",
   "mimetype": "text/x-python",
   "name": "python",
   "nbconvert_exporter": "python",
   "pygments_lexer": "ipython3",
   "version": "3.7.3"
  }
 },
 "nbformat": 4,
 "nbformat_minor": 2
}
