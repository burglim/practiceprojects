{
 "cells": [
  {
   "cell_type": "markdown",
   "metadata": {},
   "source": [
    "# Hangman"
   ]
  },
  {
   "cell_type": "markdown",
   "metadata": {},
   "source": [
    "Steps: \n",
    "- Ask player if they want to play\n",
    "- Randomly choose word from file\n",
    "- Work out number of letters and display blank for each, plus start image\n",
    "- Ask for player guess, check if in alphabet/ already entered\n",
    "- Whenever wrong, change image displayed\n",
    "- Whenever correct, display correct character\n",
    "- Either lose or win\n",
    "- Ask if want to play again"
   ]
  },
  {
   "cell_type": "code",
   "execution_count": 136,
   "metadata": {},
   "outputs": [],
   "source": [
    "from random import randint\n",
    "from IPython.display import clear_output\n",
    "\n",
    "def wordchoice():\n",
    "\n",
    "    #for item in file:\n",
    "        #print(item)\n",
    "    wordlist=[]\n",
    "    file=open(\"wordlist.txt\", \"r\")\n",
    "    for line in file:\n",
    "        if line != '\\n':\n",
    "            line_list=line.strip()\n",
    "        wordlist.append(line_list)\n",
    "    file.close()\n",
    "    #return wordlist\n",
    "    \n",
    "    total = len(wordlist)\n",
    "    #return total\n",
    "    \n",
    "    index = randint(0,total-1)\n",
    "    word_result = wordlist[index]\n",
    "    return word_result"
   ]
  },
  {
   "cell_type": "code",
   "execution_count": 165,
   "metadata": {},
   "outputs": [
    {
     "data": {
      "text/plain": [
       "'Harry'"
      ]
     },
     "execution_count": 165,
     "metadata": {},
     "output_type": "execute_result"
    }
   ],
   "source": [
    "wordchoice()"
   ]
  },
  {
   "cell_type": "code",
   "execution_count": 138,
   "metadata": {},
   "outputs": [],
   "source": [
    "def word_dict(word):\n",
    "    mydict = {}\n",
    "    for i in word:\n",
    "        mydict[i] = '_ '\n",
    "    return mydict"
   ]
  },
  {
   "cell_type": "markdown",
   "metadata": {},
   "source": [
    "note problem that it only includes double letters once - would a list of tuples be better to use here?"
   ]
  },
  {
   "cell_type": "code",
   "execution_count": 145,
   "metadata": {
    "scrolled": true
   },
   "outputs": [
    {
     "name": "stdout",
     "output_type": "stream",
     "text": [
      "{'s': '_ ', 'w': '_ ', 'u': '_ ', 'n': '_ ', 'g': '_ '}\n"
     ]
    }
   ],
   "source": [
    "mywordchoice = wordchoice()\n",
    "mydictionary = word_dict(mywordchoice)\n",
    "print(mydictionary)"
   ]
  },
  {
   "cell_type": "code",
   "execution_count": 143,
   "metadata": {},
   "outputs": [],
   "source": [
    "def word_display(dictionary):\n",
    "    output = ''\n",
    "    for i in dictionary:\n",
    "        output += dictionary[i]\n",
    "    return output"
   ]
  },
  {
   "cell_type": "code",
   "execution_count": 146,
   "metadata": {
    "scrolled": false
   },
   "outputs": [
    {
     "data": {
      "text/plain": [
       "'_ _ _ _ _ '"
      ]
     },
     "execution_count": 146,
     "metadata": {},
     "output_type": "execute_result"
    }
   ],
   "source": [
    "\n",
    "word_display(mydictionary)"
   ]
  },
  {
   "cell_type": "markdown",
   "metadata": {},
   "source": [
    "Maybe I can write a function to split each generated word into each character as a dictionary key, and default value of '_ '. Once the player guesses the key, the value is updated to be the same as the same key. - See above for the problem with that!\n",
    "\n",
    "Then the display only ever has to print the values of this one dictionary and it is easily updated throughout the game."
   ]
  },
  {
   "cell_type": "code",
   "execution_count": 155,
   "metadata": {},
   "outputs": [],
   "source": [
    "def player_guess(word):\n",
    "\n",
    "    valid = False\n",
    "    #return guess\n",
    "    while valid == False:\n",
    "        guess = input('Enter a letter: ').lower()\n",
    "        if len(guess)== 1 and guess in 'abcdefghijklmnopqrstuvwxyz':\n",
    "            valid = True\n",
    "            if guess in word:\n",
    "                print('Hit!')\n",
    "                return guess\n",
    "            #also need to return the value for guess!\n",
    "            else:\n",
    "                print('Miss!')\n",
    "                continue\n",
    "        else:\n",
    "            print('Please enter one character from the alphabet')\n",
    "            continue\n",
    "        "
   ]
  },
  {
   "cell_type": "markdown",
   "metadata": {},
   "source": [
    "More options for this function, as it currently doesn't do what we need!\n",
    "\n",
    "Either it circulates until a letter is correct, updating the image each time (I don't think this is the way to do it)\n",
    "\n",
    "OR it simply asks once, and returns BOTH boolean and the player's guess\n",
    "\n",
    "OR the function takes the guess as an object (make guess another separate function), and simply returns the boolean for hit/miss"
   ]
  },
  {
   "cell_type": "code",
   "execution_count": 156,
   "metadata": {},
   "outputs": [
    {
     "name": "stdout",
     "output_type": "stream",
     "text": [
      "promised\n",
      "Enter a letter: i\n",
      "Hit!\n"
     ]
    },
    {
     "data": {
      "text/plain": [
       "'i'"
      ]
     },
     "execution_count": 156,
     "metadata": {},
     "output_type": "execute_result"
    }
   ],
   "source": [
    "computer_word = wordchoice()\n",
    "print(computer_word)\n",
    "player_guess(computer_word)"
   ]
  },
  {
   "cell_type": "code",
   "execution_count": 101,
   "metadata": {
    "scrolled": true
   },
   "outputs": [],
   "source": [
    "# Rethink this once I have solved the word -> dictionary problem!\n",
    "\n",
    "def display_updater(guess, dictionary):\n",
    "    clear_output(wait=True)\n",
    "    if guess == True:\n",
    "        for i in dictionary:\n",
    "            if i == dictionary.value():\n",
    "                dictionary[i] = i\n",
    "    # Where guess = letter in word, update corresponding index in display to that letter\n",
    "    else: \n",
    "        pass\n",
    "        "
   ]
  },
  {
   "cell_type": "code",
   "execution_count": 166,
   "metadata": {},
   "outputs": [
    {
     "data": {
      "text/plain": [
       "['e', 'l', 'e', 'p', 'h', 'a', 'n', 't']"
      ]
     },
     "execution_count": 166,
     "metadata": {},
     "output_type": "execute_result"
    }
   ],
   "source": [
    "hiddenlist = list('elephant')"
   ]
  },
  {
   "cell_type": "code",
   "execution_count": 167,
   "metadata": {},
   "outputs": [
    {
     "data": {
      "text/plain": [
       "['_', '_', '_', '_', '_', '_', '_', '_']"
      ]
     },
     "execution_count": 167,
     "metadata": {},
     "output_type": "execute_result"
    }
   ],
   "source": [
    "visiblelist = ['_' for i in hiddenlist]\n",
    "visiblelist"
   ]
  },
  {
   "cell_type": "code",
   "execution_count": 179,
   "metadata": {},
   "outputs": [],
   "source": [
    "visiblelist = [j if j == 'a' else i for (i,j) in zip(visiblelist,hiddenlist)]"
   ]
  },
  {
   "cell_type": "code",
   "execution_count": 180,
   "metadata": {},
   "outputs": [
    {
     "data": {
      "text/plain": [
       "['_', '_', '_', '_', '_', 'a', '_', '_']"
      ]
     },
     "execution_count": 180,
     "metadata": {},
     "output_type": "execute_result"
    }
   ],
   "source": [
    "visiblelist"
   ]
  },
  {
   "cell_type": "code",
   "execution_count": 181,
   "metadata": {},
   "outputs": [],
   "source": [
    "visiblelist = [j if j == 'e' else i for (i,j) in zip(visiblelist,hiddenlist)]"
   ]
  },
  {
   "cell_type": "code",
   "execution_count": 183,
   "metadata": {},
   "outputs": [
    {
     "data": {
      "text/plain": [
       "['e', '_', 'e', '_', '_', 'a', '_', '_']"
      ]
     },
     "execution_count": 183,
     "metadata": {},
     "output_type": "execute_result"
    }
   ],
   "source": [
    "visiblelist"
   ]
  },
  {
   "cell_type": "code",
   "execution_count": null,
   "metadata": {},
   "outputs": [],
   "source": []
  }
 ],
 "metadata": {
  "kernelspec": {
   "display_name": "Python 3",
   "language": "python",
   "name": "python3"
  },
  "language_info": {
   "codemirror_mode": {
    "name": "ipython",
    "version": 3
   },
   "file_extension": ".py",
   "mimetype": "text/x-python",
   "name": "python",
   "nbconvert_exporter": "python",
   "pygments_lexer": "ipython3",
   "version": "3.7.3"
  }
 },
 "nbformat": 4,
 "nbformat_minor": 2
}
