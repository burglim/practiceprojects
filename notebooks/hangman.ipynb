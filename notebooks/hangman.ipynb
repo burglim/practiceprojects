{
 "cells": [
  {
   "cell_type": "markdown",
   "metadata": {},
   "source": [
    "# Hangman"
   ]
  },
  {
   "cell_type": "markdown",
   "metadata": {},
   "source": [
    "Steps: \n",
    "- Ask player if they want to play\n",
    "- Randomly choose word from file\n",
    "- Work out number of letters and display blank for each, plus start image\n",
    "- Ask for player guess, check if in alphabet/ already entered\n",
    "- Whenever wrong, change image displayed\n",
    "- Whenever correct, display correct character\n",
    "- Either lose or win\n",
    "- Ask if want to play again"
   ]
  },
  {
   "cell_type": "code",
   "execution_count": 1,
   "metadata": {},
   "outputs": [],
   "source": [
    "from random import randint\n",
    "from IPython.display import clear_output\n",
    "\n",
    "def wordchoice():\n",
    "    wordlist=[]\n",
    "    file=open(\"wordlist.txt\", \"r\")\n",
    "    for line in file:\n",
    "        if line != '\\n':\n",
    "            line_list=line.strip()\n",
    "        wordlist.append(line_list)\n",
    "    file.close()\n",
    "    \n",
    "    total = len(wordlist)    \n",
    "    index = randint(0,total-1)\n",
    "    word_result = wordlist[index].lower()\n",
    "    return word_result"
   ]
  },
  {
   "cell_type": "code",
   "execution_count": 2,
   "metadata": {},
   "outputs": [],
   "source": [
    "def player_input():\n",
    "    valid = False\n",
    "    while valid == False:\n",
    "        guess = input('Enter a letter: ').lower()\n",
    "        if len(guess)== 1 and guess in 'abcdefghijklmnopqrstuvwxyz':\n",
    "            valid = True\n",
    "            return guess\n",
    "        else:\n",
    "            print('Please enter one character from the alphabet')\n",
    "            continue"
   ]
  },
  {
   "cell_type": "code",
   "execution_count": 3,
   "metadata": {},
   "outputs": [],
   "source": [
    "def player_guess(hiddenword, guess):\n",
    "    if guess in list(hiddenword):\n",
    "        print('Hit!')\n",
    "        return True\n",
    "    else:\n",
    "        print('Miss!')\n",
    "        return False\n",
    "        "
   ]
  },
  {
   "cell_type": "code",
   "execution_count": 17,
   "metadata": {},
   "outputs": [],
   "source": [
    "def game_play():\n",
    "    \n",
    "    #setting up the word choice and console output\n",
    "    word = wordchoice()\n",
    "    hiddenlist = list(word)\n",
    "    visiblelist = ['_ ' for i in hiddenlist]\n",
    "    #print(hiddenlist)\n",
    "    #print(visiblelist)\n",
    "    \n",
    "    errors = 0\n",
    "    \n",
    "    while ('_ ' in visiblelist) and (errors < 10):\n",
    "    #get valid guess from player and see if it's a match\n",
    "        my_guess = player_input()\n",
    "        guess_status = player_guess(hiddenlist, my_guess)\n",
    "    \n",
    "    #update the output\n",
    "        if guess_status:\n",
    "            visiblelist = [(j+' ') if j == my_guess else i for (i,j) in zip(visiblelist,hiddenlist)]\n",
    "        else:\n",
    "            errors += 1\n",
    "            \n",
    "        clear_output(wait=True)\n",
    "        output = ''.join(visiblelist)\n",
    "        print(output)\n",
    "        print(f'Errors: {errors}')\n",
    "        continue\n",
    "            \n",
    "    if '_ ' not in visiblelist:\n",
    "        print('You won!')\n",
    "    elif errors == 10:\n",
    "        print('You lose!')\n",
    "    else:\n",
    "        print('Error')"
   ]
  },
  {
   "cell_type": "code",
   "execution_count": 18,
   "metadata": {},
   "outputs": [
    {
     "name": "stdout",
     "output_type": "stream",
     "text": [
      "e s s e n t i a l \n",
      "Errors: 0\n",
      "['e ', 's ', 's ', 'e ', 'n ', 't ', 'i ', 'a ', 'l ']\n",
      "You won!\n"
     ]
    }
   ],
   "source": [
    "game_play()"
   ]
  },
  {
   "cell_type": "markdown",
   "metadata": {},
   "source": [
    "Use matplotlib for image display"
   ]
  },
  {
   "cell_type": "code",
   "execution_count": null,
   "metadata": {},
   "outputs": [],
   "source": []
  }
 ],
 "metadata": {
  "kernelspec": {
   "display_name": "Python 3",
   "language": "python",
   "name": "python3"
  },
  "language_info": {
   "codemirror_mode": {
    "name": "ipython",
    "version": 3
   },
   "file_extension": ".py",
   "mimetype": "text/x-python",
   "name": "python",
   "nbconvert_exporter": "python",
   "pygments_lexer": "ipython3",
   "version": "3.7.3"
  }
 },
 "nbformat": 4,
 "nbformat_minor": 2
}
